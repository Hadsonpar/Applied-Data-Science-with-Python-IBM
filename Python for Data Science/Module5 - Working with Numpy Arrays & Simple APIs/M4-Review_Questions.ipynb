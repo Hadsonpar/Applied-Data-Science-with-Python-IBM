{
  "metadata": {
    "language_info": {
      "codemirror_mode": {
        "name": "python",
        "version": 3
      },
      "file_extension": ".py",
      "mimetype": "text/x-python",
      "name": "python",
      "nbconvert_exporter": "python",
      "pygments_lexer": "ipython3",
      "version": "3.8"
    },
    "kernelspec": {
      "name": "python",
      "display_name": "Pyolite",
      "language": "python"
    }
  },
  "nbformat_minor": 4,
  "nbformat": 4,
  "cells": [
    {
      "cell_type": "markdown",
      "source": "<H3>Review Questions</H3>",
      "metadata": {}
    },
    {
      "cell_type": "markdown",
      "source": "<H4>Multiple Choice</H4>",
      "metadata": {}
    },
    {
      "cell_type": "markdown",
      "source": "What is the result of the following lines of code:",
      "metadata": {}
    },
    {
      "cell_type": "code",
      "source": "import numpy as np\na=np.array([0,1,0,1,0])\nb=np.array([1,0,1,0,1])\na*b",
      "metadata": {
        "trusted": true
      },
      "execution_count": 2,
      "outputs": [
        {
          "execution_count": 2,
          "output_type": "execute_result",
          "data": {
            "text/plain": "array([0, 0, 0, 0, 0])"
          },
          "metadata": {}
        }
      ]
    },
    {
      "cell_type": "markdown",
      "source": "<H4>Multiple Choice</H4>",
      "metadata": {}
    },
    {
      "cell_type": "markdown",
      "source": "What is the result of the following lines of code:",
      "metadata": {}
    },
    {
      "cell_type": "code",
      "source": "a=np.array([0,1])\nb=np.array([1,0])\nnp.dot(a,b)",
      "metadata": {
        "trusted": true
      },
      "execution_count": 5,
      "outputs": [
        {
          "execution_count": 5,
          "output_type": "execute_result",
          "data": {
            "text/plain": "0"
          },
          "metadata": {}
        }
      ]
    },
    {
      "cell_type": "markdown",
      "source": "<H4>Multiple Choice</H4>",
      "metadata": {}
    },
    {
      "cell_type": "markdown",
      "source": "What is the result of the following lines of code:",
      "metadata": {}
    },
    {
      "cell_type": "code",
      "source": "a=np.array([1,1,1,1,1])\na+10",
      "metadata": {
        "trusted": true
      },
      "execution_count": 6,
      "outputs": [
        {
          "execution_count": 6,
          "output_type": "execute_result",
          "data": {
            "text/plain": "array([11, 11, 11, 11, 11])"
          },
          "metadata": {}
        }
      ]
    },
    {
      "cell_type": "markdown",
      "source": "<H4>Multiple Choice</H4>",
      "metadata": {}
    },
    {
      "cell_type": "markdown",
      "source": "What is the correct code to perform matrix multiplication on the matrix A and B?",
      "metadata": {}
    },
    {
      "cell_type": "code",
      "source": "A=np.array([2,3])\nB=np.array([2,2])\nnp.dot(A,B)",
      "metadata": {
        "trusted": true
      },
      "execution_count": 12,
      "outputs": [
        {
          "execution_count": 12,
          "output_type": "execute_result",
          "data": {
            "text/plain": "10"
          },
          "metadata": {}
        }
      ]
    },
    {
      "cell_type": "code",
      "source": "",
      "metadata": {},
      "execution_count": null,
      "outputs": []
    }
  ]
}