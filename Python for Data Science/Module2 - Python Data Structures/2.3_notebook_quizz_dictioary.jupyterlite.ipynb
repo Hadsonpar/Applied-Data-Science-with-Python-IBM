{
  "metadata": {
    "language_info": {
      "codemirror_mode": {
        "name": "python",
        "version": 3
      },
      "file_extension": ".py",
      "mimetype": "text/x-python",
      "name": "python",
      "nbconvert_exporter": "python",
      "pygments_lexer": "ipython3",
      "version": "3.8"
    },
    "kernelspec": {
      "name": "python",
      "display_name": "Pyolite",
      "language": "python"
    }
  },
  "nbformat_minor": 4,
  "nbformat": 4,
  "cells": [
    {
      "cell_type": "markdown",
      "source": "<p style=\"text-align:center\">\n    <a href=\"https://skills.network/?utm_medium=Exinfluencer&utm_source=Exinfluencer&utm_content=000026UJ&utm_term=10006555&utm_id=NA-SkillsNetwork-Channel-SkillsNetworkCoursesIBMDeveloperSkillsNetworkPY0101ENSkillsNetwork1005-2022-01-01\" target=\"_blank\">\n    <img src=\"https://cf-courses-data.s3.us.cloud-object-storage.appdomain.cloud/assets/logos/SN_web_lightmode.png\" width=\"200\" alt=\"Skills Network Logo\"  />\n    </a>\n</p>\n",
      "metadata": {}
    },
    {
      "cell_type": "markdown",
      "source": "You will need the dictionary <code>D</code>:\n",
      "metadata": {}
    },
    {
      "cell_type": "code",
      "source": "D={'a':0,'b':1,'c':2}",
      "metadata": {
        "trusted": true
      },
      "execution_count": 2,
      "outputs": []
    },
    {
      "cell_type": "markdown",
      "source": "<h3>Find the Value of a Key</h3> \n",
      "metadata": {}
    },
    {
      "cell_type": "markdown",
      "source": "Find the value for the key <code>'a'</code>:\n",
      "metadata": {}
    },
    {
      "cell_type": "code",
      "source": "D['a']",
      "metadata": {
        "trusted": true
      },
      "execution_count": 5,
      "outputs": [
        {
          "execution_count": 5,
          "output_type": "execute_result",
          "data": {
            "text/plain": "0"
          },
          "metadata": {}
        }
      ]
    },
    {
      "cell_type": "markdown",
      "source": "<details><summary>Click here for the solution</summary>\n\n```python\nD[\"a\"]\n\n```\n\n</details>\n",
      "metadata": {}
    },
    {
      "cell_type": "markdown",
      "source": "<h3>Keys of a Dictionary</h3> \n",
      "metadata": {}
    },
    {
      "cell_type": "markdown",
      "source": "Find the keys of the dictionary <code>D</code>:\n",
      "metadata": {}
    },
    {
      "cell_type": "code",
      "source": "D.keys()",
      "metadata": {
        "trusted": true
      },
      "execution_count": 7,
      "outputs": [
        {
          "execution_count": 7,
          "output_type": "execute_result",
          "data": {
            "text/plain": "dict_keys(['a', 'b', 'c'])"
          },
          "metadata": {}
        }
      ]
    },
    {
      "cell_type": "markdown",
      "source": "<details><summary>Click here for the solution</summary>\n\n```python\nD.keys()\n\n```\n\n</details>\n",
      "metadata": {}
    },
    {
      "cell_type": "markdown",
      "source": "<h3>QUESTION 1</h3> \n",
      "metadata": {}
    },
    {
      "cell_type": "markdown",
      "source": "Consider the following dictionary:\n\nD = {'a':0,'b':1,'c':2}\n\nWhat is the result of the following: D.values()?",
      "metadata": {}
    },
    {
      "cell_type": "code",
      "source": "D.values()",
      "metadata": {
        "trusted": true
      },
      "execution_count": 10,
      "outputs": [
        {
          "execution_count": 10,
          "output_type": "execute_result",
          "data": {
            "text/plain": "dict_values([0, 1, 2])"
          },
          "metadata": {}
        }
      ]
    },
    {
      "cell_type": "markdown",
      "source": "<h3>QUESTION 1</h3> \n",
      "metadata": {}
    },
    {
      "cell_type": "markdown",
      "source": "Consider the following dictionary:\n\nD = {'a':0,'b':1,'c':2}\n\nWhat is the output of the following D['b']?",
      "metadata": {}
    },
    {
      "cell_type": "code",
      "source": "D['b']",
      "metadata": {
        "trusted": true
      },
      "execution_count": 9,
      "outputs": [
        {
          "execution_count": 9,
          "output_type": "execute_result",
          "data": {
            "text/plain": "1"
          },
          "metadata": {}
        }
      ]
    },
    {
      "cell_type": "markdown",
      "source": "<hr>\n\n<h3 align=\"center\"> © IBM Corporation 2020. All rights reserved. <h3/>\n",
      "metadata": {}
    }
  ]
}