{
  "metadata": {
    "language_info": {
      "codemirror_mode": {
        "name": "python",
        "version": 3
      },
      "file_extension": ".py",
      "mimetype": "text/x-python",
      "name": "python",
      "nbconvert_exporter": "python",
      "pygments_lexer": "ipython3",
      "version": "3.8"
    },
    "kernelspec": {
      "name": "python",
      "display_name": "Pyolite",
      "language": "python"
    }
  },
  "nbformat_minor": 4,
  "nbformat": 4,
  "cells": [
    {
      "cell_type": "markdown",
      "source": "<h3>Review Questions</h3>\n\n# Instructions for Review Questions\n\n#### 1. Time allowed: **Unlimited**\n\n* We encourage you to go back and review the materials to find the right answer\n* Please remember that the Review Questions are worth 50% of your final mark.\n\n#### 2. Attempts per question:\n* One attempt - For True/False questions\n* Two attempts - For any question other than True/False\n\n#### 3. Clicking the \"Final Check\" button when it appears, means your submission is FINAL.  You will NOT be able to resubmit your answer for that question ever again\n#### 4. Check your grades in the course at any time by clicking on the \"Progress\" tab",
      "metadata": {}
    },
    {
      "cell_type": "markdown",
      "source": "### Question 1\n\nWhat is the syntax used to obtain the first element of the tuple:",
      "metadata": {}
    },
    {
      "cell_type": "code",
      "source": "A = ('a','b','c')\nA[0]",
      "metadata": {
        "trusted": true
      },
      "execution_count": 1,
      "outputs": [
        {
          "execution_count": 1,
          "output_type": "execute_result",
          "data": {
            "text/plain": "'a'"
          },
          "metadata": {}
        }
      ]
    },
    {
      "cell_type": "markdown",
      "source": "### Question 2\n\nAfter applying the following method, L.append(['a','b']), the following list will only be one element longer.",
      "metadata": {}
    },
    {
      "cell_type": "code",
      "source": "L = [ \"xyz\", 10.02]\nL.append(['a','b'])\nL",
      "metadata": {
        "trusted": true
      },
      "execution_count": 8,
      "outputs": [
        {
          "execution_count": 8,
          "output_type": "execute_result",
          "data": {
            "text/plain": "['xyz', 10.02, ['a', 'b']]"
          },
          "metadata": {}
        }
      ]
    },
    {
      "cell_type": "markdown",
      "source": "### Question 3\n\nHow many duplicate elements can you have in a set?",
      "metadata": {}
    },
    {
      "cell_type": "markdown",
      "source": "**Aswer:** 0. You can only have one unique element in a set.",
      "metadata": {}
    },
    {
      "cell_type": "markdown",
      "source": "### Question 4\n\nConsider the following Python dictionary:\n\nDict={\"A\":1,\"B\":\"2\",\"C\":[3,3,3],\"D\":(4,4,4),'E':5,'F':6}\n\nWhat is the result of the following operation: Dict[\"D\"]?",
      "metadata": {
        "tags": []
      }
    },
    {
      "cell_type": "code",
      "source": "Dict={\"A\":1,\"B\":\"2\",\"C\":[3,3,3],\"D\":(4,4,4),'E':5,'F':6}\nDict[\"D\"]",
      "metadata": {
        "trusted": true
      },
      "execution_count": 9,
      "outputs": [
        {
          "execution_count": 9,
          "output_type": "execute_result",
          "data": {
            "text/plain": "(4, 4, 4)"
          },
          "metadata": {}
        }
      ]
    },
    {
      "cell_type": "markdown",
      "source": "### Question 5\n\nWhat is an important difference between lists and tuples?",
      "metadata": {
        "tags": []
      }
    },
    {
      "cell_type": "markdown",
      "source": "**Aswer:** Lists are mutable, tuples are not.",
      "metadata": {}
    }
  ]
}