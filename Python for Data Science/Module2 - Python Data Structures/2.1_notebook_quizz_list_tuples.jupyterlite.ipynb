{
  "metadata": {
    "language_info": {
      "codemirror_mode": {
        "name": "python",
        "version": 3
      },
      "file_extension": ".py",
      "mimetype": "text/x-python",
      "name": "python",
      "nbconvert_exporter": "python",
      "pygments_lexer": "ipython3",
      "version": "3.8"
    },
    "kernelspec": {
      "name": "python",
      "display_name": "Pyolite",
      "language": "python"
    }
  },
  "nbformat_minor": 4,
  "nbformat": 4,
  "cells": [
    {
      "cell_type": "markdown",
      "source": "<p style=\"text-align:center\">\n    <a href=\"https://skills.network/?utm_medium=Exinfluencer&utm_source=Exinfluencer&utm_content=000026UJ&utm_term=10006555&utm_id=NA-SkillsNetwork-Channel-SkillsNetworkCoursesIBMDeveloperSkillsNetworkPY0101ENSkillsNetwork1005-2022-01-01\" target=\"_blank\">\n    <img src=\"https://cf-courses-data.s3.us.cloud-object-storage.appdomain.cloud/assets/logos/SN_web_lightmode.png\" width=\"200\" alt=\"Skills Network Logo\"  />\n    </a>\n</p>\n",
      "metadata": {}
    },
    {
      "cell_type": "markdown",
      "source": "<h3>Create a Tuple</h3>\n",
      "metadata": {}
    },
    {
      "cell_type": "markdown",
      "source": "Create a tuple  <code> (0,1,2,3) </code> and assign it to variable <code>A</code>:\n",
      "metadata": {}
    },
    {
      "cell_type": "code",
      "source": "A = (0,1,2,3)\nprint(A)",
      "metadata": {
        "trusted": true
      },
      "execution_count": 1,
      "outputs": [
        {
          "name": "stdout",
          "text": "(0, 1, 2, 3)\n",
          "output_type": "stream"
        }
      ]
    },
    {
      "cell_type": "markdown",
      "source": "<details><summary>Click here for the solution</summary>\n\n```python\nA = (0,1,2,3)\nprint(A)\n```\n\n</details>\n",
      "metadata": {}
    },
    {
      "cell_type": "markdown",
      "source": "<h3>Find the Elements of a Tuple</h3> \n",
      "metadata": {}
    },
    {
      "cell_type": "markdown",
      "source": "Find the first two elements of tuple <code> A </code>:\n",
      "metadata": {}
    },
    {
      "cell_type": "code",
      "source": "A[0:2]",
      "metadata": {
        "trusted": true
      },
      "execution_count": 2,
      "outputs": [
        {
          "execution_count": 2,
          "output_type": "execute_result",
          "data": {
            "text/plain": "(0, 1)"
          },
          "metadata": {}
        }
      ]
    },
    {
      "cell_type": "markdown",
      "source": "<details><summary>Click here for the solution</summary>\n\n```python\nA[0:2]\n```\n\n</details>\n",
      "metadata": {}
    },
    {
      "cell_type": "markdown",
      "source": "<h3>Lists </h3> \n",
      "metadata": {}
    },
    {
      "cell_type": "markdown",
      "source": "For the next few questions, you will need the following list:\n",
      "metadata": {}
    },
    {
      "cell_type": "code",
      "source": "B=[\"a\",\"b\",\"c\"]",
      "metadata": {
        "trusted": true
      },
      "execution_count": 3,
      "outputs": []
    },
    {
      "cell_type": "markdown",
      "source": "Find the first two elements of the list <code> B</code>:\n",
      "metadata": {}
    },
    {
      "cell_type": "code",
      "source": "B[0:2]",
      "metadata": {
        "trusted": true
      },
      "execution_count": 5,
      "outputs": [
        {
          "execution_count": 5,
          "output_type": "execute_result",
          "data": {
            "text/plain": "['a', 'b']"
          },
          "metadata": {}
        }
      ]
    },
    {
      "cell_type": "markdown",
      "source": "<details><summary>Click here for the solution</summary>\n\n```python\nB[0:2]\n```\n\n</details>\n",
      "metadata": {}
    },
    {
      "cell_type": "markdown",
      "source": "Change the first element of the list to an uppercase <code>\"A\"</code>.\n",
      "metadata": {}
    },
    {
      "cell_type": "code",
      "source": "B[0] = 'A'\nprint(B)",
      "metadata": {
        "trusted": true
      },
      "execution_count": 6,
      "outputs": [
        {
          "name": "stdout",
          "text": "['A', 'b', 'c']\n",
          "output_type": "stream"
        }
      ]
    },
    {
      "cell_type": "markdown",
      "source": "<details><summary>Click here for the solution</summary>\n\n```python\nB[0] = 'A'\nprint(B)\n```\n\n</details>\n",
      "metadata": {}
    },
    {
      "cell_type": "markdown",
      "source": "<h3>QUESTION 1:</h3>",
      "metadata": {}
    },
    {
      "cell_type": "markdown",
      "source": "How do you access the last element of the following tuple: A=(0,1,2,3)? Select all possible correct answers.",
      "metadata": {}
    },
    {
      "cell_type": "code",
      "source": "A=(0,1,2,3)\nA[3]",
      "metadata": {
        "trusted": true
      },
      "execution_count": 13,
      "outputs": [
        {
          "execution_count": 13,
          "output_type": "execute_result",
          "data": {
            "text/plain": "3"
          },
          "metadata": {}
        }
      ]
    },
    {
      "cell_type": "code",
      "source": "A[-1]",
      "metadata": {
        "trusted": true
      },
      "execution_count": 14,
      "outputs": [
        {
          "execution_count": 14,
          "output_type": "execute_result",
          "data": {
            "text/plain": "3"
          },
          "metadata": {}
        }
      ]
    },
    {
      "cell_type": "markdown",
      "source": "<h3>QUESTION 2</h3>",
      "metadata": {}
    },
    {
      "cell_type": "markdown",
      "source": "Consider the list: B=[\"a\",\"b\",\"c\"].\n<br>\nWhat is the result of the following B[1:]?",
      "metadata": {}
    },
    {
      "cell_type": "code",
      "source": "B=[\"a\",\"b\",\"c\"]\nB[1:]",
      "metadata": {
        "trusted": true
      },
      "execution_count": 12,
      "outputs": [
        {
          "execution_count": 12,
          "output_type": "execute_result",
          "data": {
            "text/plain": "['b', 'c']"
          },
          "metadata": {}
        }
      ]
    },
    {
      "cell_type": "markdown",
      "source": "<hr>\n\n<h3 align=\"center\"> © IBM Corporation 2020. All rights reserved. <h3/>\n",
      "metadata": {}
    }
  ]
}