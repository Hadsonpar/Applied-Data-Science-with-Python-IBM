{
  "metadata": {
    "language_info": {
      "codemirror_mode": {
        "name": "python",
        "version": 3
      },
      "file_extension": ".py",
      "mimetype": "text/x-python",
      "name": "python",
      "nbconvert_exporter": "python",
      "pygments_lexer": "ipython3",
      "version": "3.8"
    },
    "kernelspec": {
      "name": "python",
      "display_name": "Pyolite",
      "language": "python"
    }
  },
  "nbformat_minor": 4,
  "nbformat": 4,
  "cells": [
    {
      "cell_type": "markdown",
      "source": "<p style=\"text-align:center\">\n    <a href=\"https://skills.network/?utm_medium=Exinfluencer&utm_source=Exinfluencer&utm_content=000026UJ&utm_term=10006555&utm_id=NA-SkillsNetwork-Channel-SkillsNetworkCoursesIBMDeveloperSkillsNetworkPY0101ENSkillsNetwork1005-2022-01-01\" target=\"_blank\">\n    <img src=\"https://cf-courses-data.s3.us.cloud-object-storage.appdomain.cloud/assets/logos/SN_web_lightmode.png\" width=\"200\" alt=\"Skills Network Logo\"  />\n    </a>\n</p>\n",
      "metadata": {}
    },
    {
      "cell_type": "markdown",
      "source": "<h3>Comparison Operations</h3> \n",
      "metadata": {}
    },
    {
      "cell_type": "markdown",
      "source": "Find the value of <code>i</code> that produces a <code>True</code>:\n",
      "metadata": {}
    },
    {
      "cell_type": "code",
      "source": "i=1\ni!=0",
      "metadata": {
        "trusted": true
      },
      "execution_count": 8,
      "outputs": [
        {
          "execution_count": 8,
          "output_type": "execute_result",
          "data": {
            "text/plain": "True"
          },
          "metadata": {}
        }
      ]
    },
    {
      "cell_type": "markdown",
      "source": "<details><summary>Click here for the solution</summary>\n\n```python\ni = 1 \n\n# any value other than 0 will produce output as True\n```\n\n</details>\n",
      "metadata": {}
    },
    {
      "cell_type": "markdown",
      "source": "<h3>Branching </h3> \n",
      "metadata": {}
    },
    {
      "cell_type": "markdown",
      "source": "Find the value of <code>x</code> that prints the statement <code>\"this is a\"</code>:\n",
      "metadata": {}
    },
    {
      "cell_type": "code",
      "source": "x = 'a'\nif(x=='a'):\n    print(\"this is a\")\nelse:\n    print(\"this is  not a\")",
      "metadata": {
        "trusted": true
      },
      "execution_count": 9,
      "outputs": [
        {
          "name": "stdout",
          "text": "this is a\n",
          "output_type": "stream"
        }
      ]
    },
    {
      "cell_type": "markdown",
      "source": "<details><summary>Click here for the solution</summary>\n\n```python\nx = 'a'\n```\n\n</details>\n",
      "metadata": {}
    },
    {
      "cell_type": "markdown",
      "source": "<h3>Logic Operators</h3> \n",
      "metadata": {}
    },
    {
      "cell_type": "markdown",
      "source": "Find the value of <code>y</code> that produces a <code>True</code> statement:\n",
      "metadata": {}
    },
    {
      "cell_type": "code",
      "source": "y=0\nx=1\nx>0 and y<10",
      "metadata": {
        "trusted": true
      },
      "execution_count": 10,
      "outputs": [
        {
          "execution_count": 10,
          "output_type": "execute_result",
          "data": {
            "text/plain": "True"
          },
          "metadata": {}
        }
      ]
    },
    {
      "cell_type": "markdown",
      "source": "<details><summary>Click here for the solution</summary>\n\n```python\ny = 0\n\n# any value less than 10 will produce output as True\n```\n\n</details>\n",
      "metadata": {}
    },
    {
      "cell_type": "markdown",
      "source": "<h3>QUESTION 1</h3> \n\n#### Select the values of i that produces a True for the following:\n\ni!=0",
      "metadata": {}
    },
    {
      "cell_type": "code",
      "source": "#sera true todo lo que sera diferente a cero (0), puede ser i=1, i=-1, i=i=1\n\ni=1\ni!=0",
      "metadata": {
        "trusted": true
      },
      "execution_count": 14,
      "outputs": [
        {
          "execution_count": 14,
          "output_type": "execute_result",
          "data": {
            "text/plain": "True"
          },
          "metadata": {}
        }
      ]
    },
    {
      "cell_type": "markdown",
      "source": "<h3>QUESTION 2</h3> \n\n#### What is the output of the following:\n\nx='a'\n\nif(x!='a'):\n\nprint(\"This is not a.\")\n\nelse:\n\nprint(\"This is a.\")",
      "metadata": {}
    },
    {
      "cell_type": "code",
      "source": "x='a'\n\nif(x!='a'):\n\n    print(\"This is not a.\")\n\nelse:\n\n    print(\"This is a.\")",
      "metadata": {
        "trusted": true
      },
      "execution_count": 12,
      "outputs": [
        {
          "name": "stdout",
          "text": "This is a.\n",
          "output_type": "stream"
        }
      ]
    },
    {
      "cell_type": "markdown",
      "source": "<hr>\n\n<h3 align=\"center\"> © IBM Corporation 2020. All rights reserved. <h3/>\n",
      "metadata": {}
    }
  ]
}