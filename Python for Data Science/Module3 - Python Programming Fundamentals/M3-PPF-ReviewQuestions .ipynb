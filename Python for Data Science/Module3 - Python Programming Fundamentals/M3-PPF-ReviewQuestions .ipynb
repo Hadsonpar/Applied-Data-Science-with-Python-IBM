{
  "metadata": {
    "language_info": {
      "codemirror_mode": {
        "name": "python",
        "version": 3
      },
      "file_extension": ".py",
      "mimetype": "text/x-python",
      "name": "python",
      "nbconvert_exporter": "python",
      "pygments_lexer": "ipython3",
      "version": "3.8"
    },
    "kernelspec": {
      "name": "python",
      "display_name": "Pyolite",
      "language": "python"
    }
  },
  "nbformat_minor": 4,
  "nbformat": 4,
  "cells": [
    {
      "cell_type": "markdown",
      "source": "<h3>Question 1</h3>",
      "metadata": {}
    },
    {
      "cell_type": "markdown",
      "source": "What is the output of the following lines of code:",
      "metadata": {}
    },
    {
      "cell_type": "code",
      "source": "x=1\n\nif(x!=1):\n    print('Hello')\nelse:\n    print('Hi')\nprint('Mike')",
      "metadata": {
        "trusted": true
      },
      "execution_count": 14,
      "outputs": [
        {
          "name": "stdout",
          "text": "Hi\nMike\n",
          "output_type": "stream"
        }
      ]
    },
    {
      "cell_type": "markdown",
      "source": "<h3>Question 2</h3>",
      "metadata": {}
    },
    {
      "cell_type": "markdown",
      "source": "What is the output of the following few lines of code?",
      "metadata": {}
    },
    {
      "cell_type": "code",
      "source": "A = ['1','2','3']\n\nfor a in A:\n    print(2*a)",
      "metadata": {
        "trusted": true
      },
      "execution_count": 4,
      "outputs": [
        {
          "name": "stdout",
          "text": "11\n22\n33\n",
          "output_type": "stream"
        }
      ]
    },
    {
      "cell_type": "markdown",
      "source": "<h3>Question 3</h3>",
      "metadata": {}
    },
    {
      "cell_type": "markdown",
      "source": "Consider the function Delta, when will the function return a value of 1",
      "metadata": {}
    },
    {
      "cell_type": "code",
      "source": "def Delta(x):\n    if x==0:\n        y=1;\n    else:\n        y=0;\n    return(y)\nDelta(0)",
      "metadata": {
        "trusted": true
      },
      "execution_count": 9,
      "outputs": [
        {
          "execution_count": 9,
          "output_type": "execute_result",
          "data": {
            "text/plain": "1"
          },
          "metadata": {}
        }
      ]
    },
    {
      "cell_type": "markdown",
      "source": "<h3>Question 4</h3>",
      "metadata": {}
    },
    {
      "cell_type": "markdown",
      "source": "What is the correct way to sort the list 'B' using a method? The result should not return a new list, just change the list 'B'.",
      "metadata": {}
    },
    {
      "cell_type": "code",
      "source": "B = ['orange', 'apple', 'pear', 'banana', 'kiwi', 'apple', 'banana']\nB.sort()\nprint(B)",
      "metadata": {
        "trusted": true
      },
      "execution_count": 11,
      "outputs": [
        {
          "name": "stdout",
          "text": "['apple', 'apple', 'banana', 'banana', 'kiwi', 'orange', 'pear']\n",
          "output_type": "stream"
        }
      ]
    },
    {
      "cell_type": "markdown",
      "source": "<h3>Question 3</h3>",
      "metadata": {}
    },
    {
      "cell_type": "markdown",
      "source": "What are the keys of the following dictionary: <code>{'a':1,'b':2}</code>?",
      "metadata": {}
    },
    {
      "cell_type": "code",
      "source": "dictonary = {'a':1,'b':2}\ndictonary.keys()",
      "metadata": {
        "trusted": true
      },
      "execution_count": 15,
      "outputs": [
        {
          "execution_count": 15,
          "output_type": "execute_result",
          "data": {
            "text/plain": "dict_keys(['a', 'b'])"
          },
          "metadata": {}
        }
      ]
    }
  ]
}