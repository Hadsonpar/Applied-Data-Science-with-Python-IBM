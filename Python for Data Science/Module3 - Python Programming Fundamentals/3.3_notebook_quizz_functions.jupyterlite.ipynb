{
  "metadata": {
    "language_info": {
      "codemirror_mode": {
        "name": "python",
        "version": 3
      },
      "file_extension": ".py",
      "mimetype": "text/x-python",
      "name": "python",
      "nbconvert_exporter": "python",
      "pygments_lexer": "ipython3",
      "version": "3.8"
    },
    "kernelspec": {
      "name": "python",
      "display_name": "Pyolite",
      "language": "python"
    }
  },
  "nbformat_minor": 4,
  "nbformat": 4,
  "cells": [
    {
      "cell_type": "markdown",
      "source": "<p style=\"text-align:center\">\n    <a href=\"https://skills.network/?utm_medium=Exinfluencer&utm_source=Exinfluencer&utm_content=000026UJ&utm_term=10006555&utm_id=NA-SkillsNetwork-Channel-SkillsNetworkCoursesIBMDeveloperSkillsNetworkPY0101ENSkillsNetwork1005-2022-01-01\" target=\"_blank\">\n    <img src=\"https://cf-courses-data.s3.us.cloud-object-storage.appdomain.cloud/assets/logos/SN_web_lightmode.png\" width=\"200\" alt=\"Skills Network Logo\"  />\n    </a>\n</p>\n",
      "metadata": {}
    },
    {
      "cell_type": "markdown",
      "source": "<h3>Function</h3> \n",
      "metadata": {}
    },
    {
      "cell_type": "markdown",
      "source": "Complete the function <code> f </code> so that it returns the product of <code>a</code> and <code>b</code>. Use the next cell to test the function.\n",
      "metadata": {}
    },
    {
      "cell_type": "code",
      "source": "def f(a,b):\n    \n    return a*b",
      "metadata": {
        "trusted": true
      },
      "execution_count": 1,
      "outputs": []
    },
    {
      "cell_type": "markdown",
      "source": "<details><summary>Click here for the solution</summary>\n\n```python\ndef f(a,b):\n    \n    return a*b\n    \n```\n\n</details>\n \n",
      "metadata": {}
    },
    {
      "cell_type": "markdown",
      "source": "Test the function using the next cell:\n",
      "metadata": {}
    },
    {
      "cell_type": "code",
      "source": "a=4\nb=2\n\nif a*b==f(a,b):   \n    print(\"Correct.\")   \nelse:    \n    print(\"Incorrect.\")",
      "metadata": {
        "trusted": true
      },
      "execution_count": 2,
      "outputs": [
        {
          "name": "stdout",
          "text": "Correct.\n",
          "output_type": "stream"
        }
      ]
    },
    {
      "cell_type": "markdown",
      "source": "Complete the function <code>g</code> such that the input <code>c</code> is a list of integers and the output is the sum of all the elements in the list.\n",
      "metadata": {}
    },
    {
      "cell_type": "code",
      "source": "def g(c):\n\n    return ",
      "metadata": {
        "trusted": true
      },
      "execution_count": 3,
      "outputs": []
    },
    {
      "cell_type": "markdown",
      "source": "<details><summary>Click here for the solution</summary>\n\n```python\ndef g(c):\n\n    return sum(c) \n    \n```\n\n</details>\n \n",
      "metadata": {}
    },
    {
      "cell_type": "markdown",
      "source": "Test the function using the next cell:\n",
      "metadata": {}
    },
    {
      "cell_type": "code",
      "source": "c=[1,2,3,4,5]\n\nif sum(c)==g(c):   \n    print(\"Correct.\")   \nelse:    \n    print(\"Incorrect.\")",
      "metadata": {
        "trusted": true
      },
      "execution_count": 4,
      "outputs": [
        {
          "name": "stdout",
          "text": "Incorrect.\n",
          "output_type": "stream"
        }
      ]
    },
    {
      "cell_type": "markdown",
      "source": "<h3>QUESTION 1</h3>",
      "metadata": {}
    },
    {
      "cell_type": "markdown",
      "source": "What is the value of <code>c</code> after the following block of code is run ?",
      "metadata": {}
    },
    {
      "cell_type": "code",
      "source": "a=1\ndef add(b):\n    return a+b\nc=add(10)",
      "metadata": {
        "trusted": true
      },
      "execution_count": 26,
      "outputs": []
    },
    {
      "cell_type": "markdown",
      "source": "<h3>QUESTION 2</h3>",
      "metadata": {}
    },
    {
      "cell_type": "markdown",
      "source": "What is the value of <code>c</code> after the following block of code is run with proper numerical input?",
      "metadata": {}
    },
    {
      "cell_type": "code",
      "source": "def f(*x):\n    return sum(x)\n\nf(5)",
      "metadata": {
        "trusted": true
      },
      "execution_count": 24,
      "outputs": [
        {
          "execution_count": 24,
          "output_type": "execute_result",
          "data": {
            "text/plain": "5"
          },
          "metadata": {}
        }
      ]
    },
    {
      "cell_type": "markdown",
      "source": "<hr>\n\n<h3 align=\"center\"> © IBM Corporation 2020. All rights reserved. <h3/>\n",
      "metadata": {}
    }
  ]
}